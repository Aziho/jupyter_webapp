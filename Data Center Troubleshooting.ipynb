{
 "cells": [
  {
   "cell_type": "code",
   "execution_count": 43,
   "id": "647c3afe",
   "metadata": {},
   "outputs": [],
   "source": [
    "import pandas as pd\n",
    "import numpy as np\n",
    "from sklearn import preprocessing\n",
    "from sklearn.preprocessing import StandardScaler\n",
    "from sklearn.model_selection import train_test_split\n"
   ]
  },
  {
   "cell_type": "code",
   "execution_count": 44,
   "id": "37304210",
   "metadata": {},
   "outputs": [],
   "source": [
    "Data_Center = pd.read_csv(\"root_cause_analysis.csv\")"
   ]
  },
  {
   "cell_type": "code",
   "execution_count": 45,
   "id": "ad3dfebd",
   "metadata": {},
   "outputs": [
    {
     "name": "stdout",
     "output_type": "stream",
     "text": [
      "   ID  CPU_LOAD  MEMORY_LEAK_LOAD  DELAY  ERROR_1000  ERROR_1001  ERROR_1002  \\\n",
      "0   1         0                 0      0           0           1           0   \n",
      "1   2         0                 0      0           0           0           0   \n",
      "2   3         0                 1      1           0           0           1   \n",
      "3   4         0                 1      0           1           1           0   \n",
      "4   5         1                 1      0           1           0           1   \n",
      "\n",
      "   ERROR_1003     ROOT_CAUSE  \n",
      "0           1    MEMORY_LEAK  \n",
      "1           1    MEMORY_LEAK  \n",
      "2           1    MEMORY_LEAK  \n",
      "3           1    MEMORY_LEAK  \n",
      "4           0  NETWORK_DELAY  \n"
     ]
    }
   ],
   "source": [
    "print(Data_Center.head())"
   ]
  },
  {
   "cell_type": "code",
   "execution_count": 46,
   "id": "66087c34",
   "metadata": {},
   "outputs": [
    {
     "name": "stdout",
     "output_type": "stream",
     "text": [
      "   ID  CPU_LOAD  MEMORY_LEAK_LOAD  DELAY  ERROR_1000  ERROR_1001  ERROR_1002  \\\n",
      "0   1         0                 0      0           0           1           0   \n",
      "1   2         0                 0      0           0           0           0   \n",
      "2   3         0                 1      1           0           0           1   \n",
      "3   4         0                 1      0           1           1           0   \n",
      "4   5         1                 1      0           1           0           1   \n",
      "\n",
      "   ERROR_1003  ROOT_CAUSE  \n",
      "0           1           1  \n",
      "1           1           1  \n",
      "2           1           1  \n",
      "3           1           1  \n",
      "4           0           2  \n"
     ]
    }
   ],
   "source": [
    "label_encoder= preprocessing.LabelEncoder()\n",
    "Data_Center['ROOT_CAUSE']=label_encoder.fit_transform(Data_center['ROOT_CAUSE'])\n",
    "print(Data_Center.head())"
   ]
  },
  {
   "cell_type": "code",
   "execution_count": 60,
   "id": "c93e9dd5",
   "metadata": {},
   "outputs": [
    {
     "data": {
      "text/plain": [
       "array([[   1,    0,    0, ...,    0,    1,    1],\n",
       "       [   2,    0,    0, ...,    0,    1,    1],\n",
       "       [   3,    0,    1, ...,    1,    1,    1],\n",
       "       ...,\n",
       "       [ 998,    1,    1, ...,    0,    0,    1],\n",
       "       [ 999,    0,    1, ...,    0,    0,    2],\n",
       "       [1000,    1,    0, ...,    1,    0,    0]], dtype=int64)"
      ]
     },
     "execution_count": 60,
     "metadata": {},
     "output_type": "execute_result"
    }
   ],
   "source": [
    "np_Data_Center= Data_Center.to_numpy()\n",
    "np_Data_Center"
   ]
  },
  {
   "cell_type": "code",
   "execution_count": 90,
   "id": "67c83be4",
   "metadata": {},
   "outputs": [
    {
     "name": "stdout",
     "output_type": "stream",
     "text": [
      "[[0 0 0 0 1 0 1]\n",
      " [0 0 0 0 0 0 1]\n",
      " [0 1 1 0 0 1 1]\n",
      " [0 1 0 1 1 0 1]\n",
      " [1 1 0 1 0 1 0]]\n",
      "[[1]\n",
      " [1]\n",
      " [1]\n",
      " [1]\n",
      " [2]]\n"
     ]
    }
   ],
   "source": [
    "X_data= np_Data_Center[:,1:8]\n",
    "Y_data=np_Data_Center[:,8:]\n",
    "\n",
    "print(X_data[:5,:])\n",
    "print(Y_data[:5])"
   ]
  },
  {
   "cell_type": "code",
   "execution_count": 70,
   "id": "f6e79a9c",
   "metadata": {},
   "outputs": [],
   "source": [
    "X_train,X_test,Y_train,Y_test= train_test_split(X_data,Y_data,test_size=0.1)"
   ]
  },
  {
   "cell_type": "code",
   "execution_count": 106,
   "id": "a2e9d882",
   "metadata": {},
   "outputs": [
    {
     "name": "stdout",
     "output_type": "stream",
     "text": [
      "Model: \"sequential_7\"\n",
      "_________________________________________________________________\n",
      " Layer (type)                Output Shape              Param #   \n",
      "=================================================================\n",
      " Hidden_layer_1 (Dense)      (None, 256)               2048      \n",
      "                                                                 \n",
      " Hidden_layer_2 (Dense)      (None, 256)               65792     \n",
      "                                                                 \n",
      " output-layer (Dense)        (None, 3)                 771       \n",
      "                                                                 \n",
      "=================================================================\n",
      "Total params: 68,611\n",
      "Trainable params: 68,611\n",
      "Non-trainable params: 0\n",
      "_________________________________________________________________\n"
     ]
    }
   ],
   "source": [
    "import tensorflow as tf\n",
    "from tensorflow import keras\n",
    "NB_classes=3\n",
    "model= tf.keras.models.Sequential()\n",
    "model.add(keras.layers.Dense(256, \n",
    "                             input_shape=[7],\n",
    "                            name='Hidden_layer_1',\n",
    "                            activation='relu'))\n",
    "model.add(keras.layers.Dense(256,\n",
    "                             name='Hidden_layer_2',\n",
    "                            activation='relu'))\n",
    "#if the data is binary it is better to choose sigmoid\n",
    "model.add(keras.layers.Dense(NB_classes,\n",
    "                             name='output-layer',\n",
    "                              activation='sigmoid'))\n",
    "\n",
    "\n",
    "model.compile(loss='sparse_categorical_crossentropy', metrics=['accuracy'])\n",
    "\n",
    "model.summary()"
   ]
  },
  {
   "cell_type": "code",
   "execution_count": 153,
   "id": "fbd30426",
   "metadata": {},
   "outputs": [
    {
     "name": "stdout",
     "output_type": "stream",
     "text": [
      "Epoch 1/10\n",
      "1/1 [==============================] - 0s 138ms/step - loss: 0.2718 - accuracy: 0.8694 - val_loss: 0.3454 - val_accuracy: 0.8333\n",
      "Epoch 2/10\n",
      "1/1 [==============================] - 0s 69ms/step - loss: 0.2668 - accuracy: 0.8736 - val_loss: 0.3451 - val_accuracy: 0.8333\n",
      "Epoch 3/10\n",
      "1/1 [==============================] - 0s 64ms/step - loss: 0.2661 - accuracy: 0.8736 - val_loss: 0.3442 - val_accuracy: 0.8333\n",
      "Epoch 4/10\n",
      "1/1 [==============================] - 0s 51ms/step - loss: 0.2659 - accuracy: 0.8736 - val_loss: 0.3439 - val_accuracy: 0.8333\n",
      "Epoch 5/10\n",
      "1/1 [==============================] - 0s 43ms/step - loss: 0.2658 - accuracy: 0.8736 - val_loss: 0.3434 - val_accuracy: 0.8333\n",
      "Epoch 6/10\n",
      "1/1 [==============================] - 0s 44ms/step - loss: 0.2657 - accuracy: 0.8736 - val_loss: 0.3432 - val_accuracy: 0.8333\n",
      "Epoch 7/10\n",
      "1/1 [==============================] - 0s 48ms/step - loss: 0.2657 - accuracy: 0.8736 - val_loss: 0.3429 - val_accuracy: 0.8333\n",
      "Epoch 8/10\n",
      "1/1 [==============================] - 0s 59ms/step - loss: 0.2656 - accuracy: 0.8736 - val_loss: 0.3427 - val_accuracy: 0.8333\n",
      "Epoch 9/10\n",
      "1/1 [==============================] - 0s 47ms/step - loss: 0.2656 - accuracy: 0.8736 - val_loss: 0.3425 - val_accuracy: 0.8333\n",
      "Epoch 10/10\n",
      "1/1 [==============================] - 0s 48ms/step - loss: 0.2655 - accuracy: 0.8736 - val_loss: 0.3425 - val_accuracy: 0.8333\n"
     ]
    },
    {
     "data": {
      "image/png": "[encoded data removed]",
      "text/plain": [
       "<Figure size 800x500 with 1 Axes>"
      ]
     },
     "metadata": {},
     "output_type": "display_data"
    },
    {
     "name": "stdout",
     "output_type": "stream",
     "text": [
      "4/4 [==============================] - 0s 2ms/step - loss: 0.2813 - accuracy: 0.8700\n"
     ]
    },
    {
     "data": {
      "text/plain": [
       "[0.28131839632987976, 0.8700000047683716]"
      ]
     },
     "execution_count": 153,
     "metadata": {},
     "output_type": "execute_result"
    }
   ],
   "source": [
    "batchsize=1024\n",
    "epoch= 10\n",
    "VERBOSE= 1\n",
    "validation_splt=0.2\n",
    "history=model.fit(X_train,\n",
    "                  Y_train,\n",
    "                  batch_size=batchsize,\n",
    "                  epochs=epoch,\n",
    "                  verbose=VERBOSE,\n",
    "                   validation_split=validation_splt\n",
    "                   )\n",
    "import matplotlib.pyplot as plt\n",
    "pd.DataFrame(history.history)['accuracy'].plot(figsize=(8,5))\n",
    "plt.title('Accuracy during training')\n",
    "plt.show()\n",
    "#evaluate dataset against test data\n",
    "model.evaluate(X_test,Y_test)"
   ]
  },
  {
   "cell_type": "code",
   "execution_count": 154,
   "id": "f69d42a5",
   "metadata": {},
   "outputs": [
    {
     "name": "stderr",
     "output_type": "stream",
     "text": [
      "WARNING:absl:Function `_wrapped_model` contains input name(s) Hidden_layer_1_input with unsupported characters which will be renamed to hidden_layer_1_input in the SavedModel.\n"
     ]
    },
    {
     "name": "stdout",
     "output_type": "stream",
     "text": [
      "INFO:tensorflow:Assets written to: Data_center_save\\assets\n"
     ]
    },
    {
     "name": "stderr",
     "output_type": "stream",
     "text": [
      "INFO:tensorflow:Assets written to: Data_center_save\\assets\n"
     ]
    }
   ],
   "source": [
    "#save model\n",
    "model.save('Data_center_save')"
   ]
  },
  {
   "cell_type": "code",
   "execution_count": 155,
   "id": "fc7ab0d4",
   "metadata": {},
   "outputs": [
    {
     "name": "stdout",
     "output_type": "stream",
     "text": [
      "Model: \"sequential_7\"\n",
      "_________________________________________________________________\n",
      " Layer (type)                Output Shape              Param #   \n",
      "=================================================================\n",
      " Hidden_layer_1 (Dense)      (None, 256)               2048      \n",
      "                                                                 \n",
      " Hidden_layer_2 (Dense)      (None, 256)               65792     \n",
      "                                                                 \n",
      " output-layer (Dense)        (None, 3)                 771       \n",
      "                                                                 \n",
      "=================================================================\n",
      "Total params: 68,611\n",
      "Trainable params: 68,611\n",
      "Non-trainable params: 0\n",
      "_________________________________________________________________\n"
     ]
    }
   ],
   "source": [
    "#loading a model\n",
    "loaded_model=keras.models.load_model('Data_center_save')\n",
    "\n",
    "#print model summary\n",
    "loaded_model.summary()"
   ]
  },
  {
   "cell_type": "code",
   "execution_count": null,
   "id": "c52b39b2",
   "metadata": {},
   "outputs": [],
   "source": []
  }
 ],
 "metadata": {
  "kernelspec": {
   "display_name": "Python 3 (ipykernel)",
   "language": "python",
   "name": "python3"
  },
  "language_info": {
   "codemirror_mode": {
    "name": "ipython",
    "version": 3
   },
   "file_extension": ".py",
   "mimetype": "text/x-python",
   "name": "python",
   "nbconvert_exporter": "python",
   "pygments_lexer": "ipython3",
   "version": "3.8.13"
  }
 },
 "nbformat": 4,
 "nbformat_minor": 5
}
